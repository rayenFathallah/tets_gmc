{
 "cells": [
  {
   "cell_type": "code",
   "execution_count": 3,
   "id": "7e880ef2",
   "metadata": {},
   "outputs": [
    {
     "name": "stdout",
     "output_type": "stream",
     "text": [
      "Collecting pypyodbc\n",
      "  Downloading pypyodbc-1.3.6.tar.gz (24 kB)\n",
      "  Preparing metadata (setup.py): started\n",
      "  Preparing metadata (setup.py): finished with status 'done'\n",
      "Requirement already satisfied: setuptools in c:\\users\\rayen\\anaconda3\\lib\\site-packages (from pypyodbc) (68.0.0)\n",
      "Building wheels for collected packages: pypyodbc\n",
      "  Building wheel for pypyodbc (setup.py): started\n",
      "  Building wheel for pypyodbc (setup.py): finished with status 'done'\n",
      "  Created wheel for pypyodbc: filename=pypyodbc-1.3.6-py3-none-any.whl size=22871 sha256=a3eeee7c109c94ef0f772d13e312ba255f21178d8f2fad20e433fe8f08562915\n",
      "  Stored in directory: c:\\users\\rayen\\appdata\\local\\pip\\cache\\wheels\\5d\\fa\\2f\\becd808255e1b61b755eb3a3aa256229a7d7e1fc89e2aef2bc\n",
      "Successfully built pypyodbc\n",
      "Installing collected packages: pypyodbc\n",
      "Successfully installed pypyodbc-1.3.6\n"
     ]
    },
    {
     "name": "stderr",
     "output_type": "stream",
     "text": [
      "WARNING: Ignoring invalid distribution ~yspark (C:\\Users\\rayen\\anaconda3\\Lib\\site-packages)\n",
      "DEPRECATION: Loading egg at c:\\users\\rayen\\anaconda3\\lib\\site-packages\\bs4-0.0.2-py3.11.egg is deprecated. pip 23.3 will enforce this behaviour change. A possible replacement is to use pip for package installation..\n",
      "DEPRECATION: Loading egg at c:\\users\\rayen\\anaconda3\\lib\\site-packages\\scrape_linkedin-0.8.0-py3.11.egg is deprecated. pip 23.3 will enforce this behaviour change. A possible replacement is to use pip for package installation..\n",
      "WARNING: Ignoring invalid distribution ~yspark (C:\\Users\\rayen\\anaconda3\\Lib\\site-packages)\n"
     ]
    }
   ],
   "source": [
    "!pip install pypyodbc"
   ]
  },
  {
   "cell_type": "code",
   "execution_count": 8,
   "id": "a97ea627",
   "metadata": {},
   "outputs": [],
   "source": [
    "import pypyodbc as odbc"
   ]
  },
  {
   "cell_type": "code",
   "execution_count": 12,
   "id": "9e35fc2f",
   "metadata": {},
   "outputs": [],
   "source": [
    "DRIVER_NAME = \"SQL SERVER\" \n",
    "SERVER_NAME = \"ryann\\SQLEXPRESS\" \n",
    "DATABASE_NAME = \"gomycode2\" \n",
    "connection_string = f\"\"\"\n",
    "DRIVER={{{DRIVER_NAME}}};\n",
    "SERVER={SERVER_NAME};\n",
    "DATABASE={DATABASE_NAME}; \n",
    "Trust_Connection=yes; \n",
    "\"\"\""
   ]
  },
  {
   "cell_type": "code",
   "execution_count": 13,
   "id": "f57a00f2",
   "metadata": {},
   "outputs": [],
   "source": [
    "conn=odbc.connect(connection_string)"
   ]
  },
  {
   "cell_type": "code",
   "execution_count": 14,
   "id": "aced59f6",
   "metadata": {},
   "outputs": [],
   "source": [
    "cursor = conn.cursor()\n"
   ]
  },
  {
   "cell_type": "code",
   "execution_count": 15,
   "id": "2d93b512",
   "metadata": {},
   "outputs": [],
   "source": [
    "select_query = \"INSERT into products values\"\n",
    "for elem in df.iterrows() : \n",
    "    dict = {\"product_name\" : row.name,\"price\":row.price,...}\n",
    "    \n",
    "cursor.execute(select_query)\n",
    "rows = cursor.fetchall()\n",
    "\n"
   ]
  },
  {
   "cell_type": "code",
   "execution_count": 18,
   "id": "8d246634",
   "metadata": {},
   "outputs": [
    {
     "data": {
      "text/plain": [
       "[(1, 'AI Conference', '2024-07-15', 'Riyadh', 'Conference', Decimal('200.00')),\n",
       " (2,\n",
       "  'Data Science Workshop',\n",
       "  '2024-08-10',\n",
       "  'Dubai',\n",
       "  'Workshop',\n",
       "  Decimal('0.00')),\n",
       " (3, 'Tech Expo', '2024-09-05', 'Jeddah', 'Exhibition', Decimal('100.00')),\n",
       " (4,\n",
       "  'Machine Learning Seminar',\n",
       "  '2024-07-20',\n",
       "  'Abu Dhabi',\n",
       "  'Seminar',\n",
       "  Decimal('50.00')),\n",
       " (5,\n",
       "  'Cloud Computing Summit',\n",
       "  '2024-10-12',\n",
       "  'Doha',\n",
       "  'Summit',\n",
       "  Decimal('300.00')),\n",
       " (6,\n",
       "  'Tunisia digital Summit',\n",
       "  '2024-06-11',\n",
       "  'Tunis',\n",
       "  'Summit',\n",
       "  Decimal('400.00'))]"
      ]
     },
     "execution_count": 18,
     "metadata": {},
     "output_type": "execute_result"
    }
   ],
   "source": [
    "rows"
   ]
  },
  {
   "cell_type": "code",
   "execution_count": null,
   "id": "5e20c5b6",
   "metadata": {},
   "outputs": [],
   "source": []
  },
  {
   "cell_type": "code",
   "execution_count": null,
   "id": "20f38aac",
   "metadata": {},
   "outputs": [],
   "source": []
  },
  {
   "cell_type": "code",
   "execution_count": null,
   "id": "6e40b448",
   "metadata": {},
   "outputs": [],
   "source": []
  }
 ],
 "metadata": {
  "kernelspec": {
   "display_name": "Python 3 (ipykernel)",
   "language": "python",
   "name": "python3"
  },
  "language_info": {
   "codemirror_mode": {
    "name": "ipython",
    "version": 3
   },
   "file_extension": ".py",
   "mimetype": "text/x-python",
   "name": "python",
   "nbconvert_exporter": "python",
   "pygments_lexer": "ipython3",
   "version": "3.11.4"
  }
 },
 "nbformat": 4,
 "nbformat_minor": 5
}
